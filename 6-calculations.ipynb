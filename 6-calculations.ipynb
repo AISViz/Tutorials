{
 "cells": [
  {
   "cell_type": "markdown",
   "id": "81b4d61e-7324-4baa-bf8a-4c3422eae24c",
   "metadata": {},
   "source": [
    "# Metrics calculation with *AISdb*"
   ]
  },
  {
   "cell_type": "markdown",
   "id": "75db9498-c34b-4f90-8311-3996bf47c24b",
   "metadata": {},
   "source": [
    "Import necessary packages and define a seudo track:"
   ]
  },
  {
   "cell_type": "code",
   "execution_count": 1,
   "id": "1004cc42-2802-4620-8754-dacd07a29a5d",
   "metadata": {},
   "outputs": [],
   "source": [
    "import aisdb\n",
    "import numpy as np\n",
    "from aisdb.gis import dt_2_epoch\n",
    "from datetime import datetime\n",
    "\n",
    "y1, x1 = 44.57039426840729, -63.52931373766157\n",
    "y2, x2 = 44.51304767533133, -63.494075674952555\n",
    "y3, x3 = 44.458038982492134, -63.535634138077945\n",
    "y4, x4 = 44.393941339104074, -63.53826396955358\n",
    "y5, x5 = 44.14245580737021, -64.16608964280064\n",
    "\n",
    "t1 = dt_2_epoch( datetime(2021, 1, 1, 1) )\n",
    "t2 = dt_2_epoch( datetime(2021, 1, 1, 2) )\n",
    "t3 = dt_2_epoch( datetime(2021, 1, 1, 3) )\n",
    "t4 = dt_2_epoch( datetime(2021, 1, 1, 4) )\n",
    "t5 = dt_2_epoch( datetime(2021, 1, 1, 7) )\n",
    "\n",
    "# Create a sample track\n",
    "tracks_short = [\n",
    "    dict(\n",
    "        lon=np.array([x1, x2, x3, x4, x5]),\n",
    "        lat=np.array([y1, y2, y3, y4, y5]),\n",
    "        time=np.array([t1, t2, t3, t4, t5]),\n",
    "        mmsi=123456789,\n",
    "        dynamic=set(['lon', 'lat', 'time']),\n",
    "        static=set(['mmsi'])\n",
    "    )\n",
    "]"
   ]
  },
  {
   "cell_type": "markdown",
   "id": "b5b347ed-7b39-4519-912a-19f74e5e2ff1",
   "metadata": {},
   "source": [
    "## Haversine Distance\n",
    "\n",
    "*AISdb* includes a function called `aisdb.gis.delta_meters` that calculates the Haversine distance in meters between consecutive positions within a vessel track."
   ]
  },
  {
   "cell_type": "code",
   "execution_count": 2,
   "id": "b7b5e601-a56b-416b-b88e-11ee23b1ab75",
   "metadata": {},
   "outputs": [
    {
     "name": "stdout",
     "output_type": "stream",
     "text": [
      "[ 6961.401286    6948.59446128  7130.40147082 57279.94580704]\n"
     ]
    }
   ],
   "source": [
    "# Calculate the Haversine distance\n",
    "for track in tracks_short:\n",
    "    print(aisdb.gis.delta_meters(track))"
   ]
  },
  {
   "cell_type": "markdown",
   "id": "95c8a175-a1ee-4fbb-b944-7853eb63663a",
   "metadata": {},
   "source": [
    "## Vessel Speed\n",
    "\n",
    "In *AISdb*, the speed of a vessel is calculated using the `aisdb.gis.delta_knots` function, which computes the speed over ground (SOG) in knots between consecutive positions within a given track. "
   ]
  },
  {
   "cell_type": "code",
   "execution_count": 3,
   "id": "9f7fa045-4d62-4d67-9bfe-057a2b8ed78e",
   "metadata": {},
   "outputs": [
    {
     "name": "stdout",
     "output_type": "stream",
     "text": [
      "[3.7588560005768947 3.7519408684140214 3.8501088005116215\n",
      " 10.309565520121597]\n"
     ]
    }
   ],
   "source": [
    "# Calculate the vessel speed in knots\n",
    "for track in tracks_short:\n",
    "    print(aisdb.gis.delta_knots(track))"
   ]
  },
  {
   "cell_type": "markdown",
   "id": "3b3750fe-1d97-4190-8ee4-d7fddf503fad",
   "metadata": {},
   "source": [
    "## Coast, Shore and Ports"
   ]
  },
  {
   "cell_type": "markdown",
   "id": "525bf866-3072-40eb-97f9-b8fd7f070340",
   "metadata": {},
   "source": [
    "### Distance from shore"
   ]
  },
  {
   "cell_type": "code",
   "execution_count": 5,
   "id": "0cac90a6-f901-4518-b2a8-c6f11e375a7e",
   "metadata": {},
   "outputs": [
    {
     "name": "stderr",
     "output_type": "stream",
     "text": [
      "raster-shore.7z: 100%|██████████████████████| 39.9M/39.9M [00:00<00:00, 107MB/s]\n"
     ]
    },
    {
     "name": "stdout",
     "output_type": "stream",
     "text": [
      "[ 1  3  2  9 14]\n"
     ]
    }
   ],
   "source": [
    "from aisdb.webdata.shore_dist import ShoreDist\n",
    "\n",
    "with ShoreDist(data_dir=\"./\") as sdist:\n",
    "        # Getting distance from shore for each point in the track\n",
    "        for track in sdist.get_distance(tracks_short):\n",
    "            assert 'km_from_shore' in track.keys()\n",
    "            assert 'km_from_shore' in track['dynamic']\n",
    "            print(track['km_from_shore'])"
   ]
  },
  {
   "cell_type": "markdown",
   "id": "cea59c88-56b0-4dcd-b22a-badb631672fd",
   "metadata": {},
   "source": [
    "### Distance from coast"
   ]
  },
  {
   "cell_type": "code",
   "execution_count": 6,
   "id": "11ed6b28-19b7-4f14-96dd-61fd39ca50e3",
   "metadata": {},
   "outputs": [
    {
     "name": "stderr",
     "output_type": "stream",
     "text": [
      "raster-coast.7z: 100%|██████████████████████| 58.8M/58.8M [00:00<00:00, 112MB/s]\n"
     ]
    },
    {
     "name": "stdout",
     "output_type": "stream",
     "text": [
      "[ 1  3  2  8 13]\n"
     ]
    }
   ],
   "source": [
    "from aisdb.webdata.shore_dist import CoastDist\n",
    "\n",
    "with CoastDist(data_dir=\"./\") as cdist:\n",
    "        # Getting distance from the coast for each point in the track\n",
    "        for track in cdist.get_distance(tracks_short):\n",
    "            assert 'km_from_coast' in track.keys()\n",
    "            assert 'km_from_coast' in track['dynamic']\n",
    "            print(track['km_from_coast'])"
   ]
  },
  {
   "cell_type": "markdown",
   "id": "f5a9928d-8a14-4e32-9773-fda36eff0548",
   "metadata": {},
   "source": [
    "### Distance from the nearest port"
   ]
  },
  {
   "cell_type": "code",
   "execution_count": 7,
   "id": "1627a2af-47a6-4645-bd67-933b815155b7",
   "metadata": {},
   "outputs": [
    {
     "name": "stderr",
     "output_type": "stream",
     "text": [
      "raster-ports.7z: 100%|██████████████████████| 1.26G/1.26G [00:11<00:00, 112MB/s]\n"
     ]
    },
    {
     "name": "stdout",
     "output_type": "stream",
     "text": [
      "[ 4.72144175  7.47747231  4.60478449 11.5642271  28.62511253]\n"
     ]
    }
   ],
   "source": [
    "from aisdb.webdata.shore_dist import PortDist\n",
    "\n",
    "with PortDist(data_dir=\"./\") as pdist:\n",
    "        # Getting distance from the port for each point in the track\n",
    "        for track in pdist.get_distance(tracks_short):\n",
    "            assert 'km_from_port' in track.keys()\n",
    "            assert 'km_from_port' in track['dynamic']\n",
    "            print(track['km_from_port'])"
   ]
  },
  {
   "cell_type": "code",
   "execution_count": null,
   "id": "bedd230e-511a-4deb-b7b9-eeee676ff437",
   "metadata": {},
   "outputs": [],
   "source": []
  }
 ],
 "metadata": {
  "kernelspec": {
   "display_name": "Python 3 (ipykernel)",
   "language": "python",
   "name": "python3"
  },
  "language_info": {
   "codemirror_mode": {
    "name": "ipython",
    "version": 3
   },
   "file_extension": ".py",
   "mimetype": "text/x-python",
   "name": "python",
   "nbconvert_exporter": "python",
   "pygments_lexer": "ipython3",
   "version": "3.10.12"
  }
 },
 "nbformat": 4,
 "nbformat_minor": 5
}
