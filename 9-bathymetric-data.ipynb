{
 "cells": [
  {
   "cell_type": "code",
   "execution_count": 1,
   "id": "c85c0397-81a3-49ec-927b-768d9993c19e",
   "metadata": {},
   "outputs": [],
   "source": [
    "import os\n",
    "import aisdb\n",
    "from aisdb.database.dbconn import SQLiteDBConn\n",
    "from aisdb import DBConn, DBQuery, DomainFromPoints\n",
    "from datetime import datetime\n",
    "import nest_asyncio\n",
    "nest_asyncio.apply()"
   ]
  },
  {
   "cell_type": "markdown",
   "id": "df534aea-9a01-404a-9fe5-e10ffab0c133",
   "metadata": {},
   "source": [
    "## Download bathymetry data"
   ]
  },
  {
   "cell_type": "code",
   "execution_count": 2,
   "id": "6ce34556-014b-4145-9776-a8cb66429c91",
   "metadata": {},
   "outputs": [
    {
     "name": "stdout",
     "output_type": "stream",
     "text": [
      "Downloading bathymetric data...\n"
     ]
    },
    {
     "name": "stderr",
     "output_type": "stream",
     "text": [
      "./bathymetry_data/raster-bathy.7z: 100%|███▉| 2.28G/2.28G [00:20<00:00, 109MB/s]\n"
     ]
    },
    {
     "name": "stdout",
     "output_type": "stream",
     "text": [
      "Extracting bathymetric data...\n"
     ]
    }
   ],
   "source": [
    "# set the path to the data storage directory\n",
    "bathymetry_data_dir = \"./bathymetry_data/\"\n",
    "\n",
    "# check if the directory exists\n",
    "if not os.path.exists(bathymetry_data_dir):\n",
    "    os.makedirs(bathymetry_data_dir)\n",
    "\n",
    "# check if the directory is empty\\\n",
    "if os.listdir(bathymetry_data_dir) == []:\n",
    "    # download the bathymetry data\n",
    "    bathy = aisdb.webdata.bathymetry.Gebco(data_dir=bathymetry_data_dir)\n",
    "    bathy.fetch_bathymetry_grid()\n",
    "else:\n",
    "    print(\"Bathymetry data already exists.\")"
   ]
  },
  {
   "cell_type": "markdown",
   "id": "5e402492-69cd-498d-b061-98e34450302c",
   "metadata": {},
   "source": [
    "## Integrate AIS tracks with bathymetry raster file"
   ]
  },
  {
   "cell_type": "code",
   "execution_count": 4,
   "id": "36eb3f1a-5a2b-4eaf-9531-d6a9b5b7190e",
   "metadata": {},
   "outputs": [
    {
     "name": "stdout",
     "output_type": "stream",
     "text": [
      "Serving HTTP assets on localhost:3000\n",
      "Querying database...\tdone query\n",
      "Opening a new browser window to display track data. Press Ctrl-C to stop the server and close the webpage\n",
      "127.0.0.1:43612 - received: {'msgtype': 'meta'}\n",
      "127.0.0.1:43624 - received: {'msgtype': 'validrange'}\n",
      "127.0.0.1:43624 - received: {'msgtype': 'zones'}\n",
      "Received KeyboardInterrupt, stopping server...\n"
     ]
    }
   ],
   "source": [
    "dbpath = 'YOUR_DATABASE.db' # define the path to your database\n",
    "start_time = datetime.strptime(\"2018-01-01 00:00:00\", '%Y-%m-%d %H:%M:%S')\n",
    "end_time = datetime.strptime(\"2018-01-02 00:00:00\", '%Y-%m-%d %H:%M:%S')\n",
    "domain = DomainFromPoints(points=[(-63.6, 44.6)], radial_distances=[500000])\n",
    "\n",
    "# define a function to add color to the tracks\n",
    "def add_color(tracks):\n",
    "    for track in tracks:\n",
    "        # Calculate the average coastal distance\n",
    "        avg_coast_distance = sum(abs(dist) for dist in track['coast_distance']) / len(track['coast_distance'])\n",
    "        \n",
    "        # Determine the color based on the average coastal distance\n",
    "        if avg_coast_distance <= 100:\n",
    "            track['color'] = \"yellow\"\n",
    "        elif avg_coast_distance <= 1000:\n",
    "            track['color'] = \"orange\"\n",
    "        elif avg_coast_distance <= 20000:\n",
    "            track['color'] = \"pink\"\n",
    "        else:\n",
    "            track['color'] = \"red\"\n",
    "        \n",
    "        yield track\n",
    "\n",
    "with SQLiteDBConn(dbpath=dbpath) as dbconn:\n",
    "    qry = DBQuery(\n",
    "        dbconn=dbconn,\n",
    "        start=start_time,\n",
    "        end=end_time,\n",
    "        xmin=domain.boundary['xmin'], xmax=domain.boundary['xmax'],\n",
    "        ymin=domain.boundary['ymin'], ymax=domain.boundary['ymax'],\n",
    "        callback=aisdb.database.sqlfcn_callbacks.in_time_bbox_validmmsi,\n",
    "    )\n",
    "    tracks = aisdb.track_gen.TrackGen(qry.gen_qry(), decimate=False)\n",
    "\n",
    "    # merge the tracks with the raster data\n",
    "    raster_path = \"./bathymetry_data/gebco_2022_n90.0_s0.0_w-90.0_e0.0.tif\" # You need to specify the geographical region to overlap based on the location of your vessel tracks\n",
    "    raster = aisdb.webdata.load_raster.RasterFile(raster_path)\n",
    "    tracks_raster = raster.merge_tracks(tracks, new_track_key=\"coast_distance\")\n",
    "\n",
    "    # add color to the tracks\n",
    "    tracks_colored = add_color(tracks_raster)\n",
    "\n",
    "    if __name__ == '__main__':\n",
    "        aisdb.web_interface.visualize(\n",
    "            tracks_colored,\n",
    "            visualearth=True,\n",
    "            open_browser=True,\n",
    "        )"
   ]
  },
  {
   "cell_type": "code",
   "execution_count": null,
   "id": "b7b55bae-9d4b-4baf-9ef7-ee34de128802",
   "metadata": {},
   "outputs": [],
   "source": []
  }
 ],
 "metadata": {
  "kernelspec": {
   "display_name": "Python 3 (ipykernel)",
   "language": "python",
   "name": "python3"
  },
  "language_info": {
   "codemirror_mode": {
    "name": "ipython",
    "version": 3
   },
   "file_extension": ".py",
   "mimetype": "text/x-python",
   "name": "python",
   "nbconvert_exporter": "python",
   "pygments_lexer": "ipython3",
   "version": "3.10.12"
  }
 },
 "nbformat": 4,
 "nbformat_minor": 5
}
