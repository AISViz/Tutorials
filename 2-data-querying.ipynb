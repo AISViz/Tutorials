{
 "cells": [
  {
   "cell_type": "markdown",
   "id": "83c694a8-8830-4721-9460-2502540636dc",
   "metadata": {},
   "source": [
    "# Practical Examples of Data Query with AISdb"
   ]
  },
  {
   "cell_type": "code",
   "execution_count": 1,
   "id": "6190b132-9219-4c8f-a36f-4642d0428fb6",
   "metadata": {},
   "outputs": [],
   "source": [
    "import os\n",
    "from datetime import datetime, timedelta\n",
    "import aisdb\n",
    "from aisdb import DBConn, DBQuery, DomainFromPoints\n",
    "import nest_asyncio\n",
    "nest_asyncio.apply()"
   ]
  },
  {
   "cell_type": "code",
   "execution_count": 2,
   "id": "e259c7df-b77a-4166-ad33-4d9889d46ace",
   "metadata": {},
   "outputs": [],
   "source": [
    "# Define the path to your database\n",
    "dbpath='YOUR_DATABASE.db'"
   ]
  },
  {
   "cell_type": "markdown",
   "id": "fd7993f6-3c70-49aa-8b92-e69b6689004e",
   "metadata": {},
   "source": [
    "## Within Time Range"
   ]
  },
  {
   "cell_type": "code",
   "execution_count": 4,
   "id": "f2b4981a-48de-4440-ae94-bf9949eb3ce1",
   "metadata": {},
   "outputs": [
    {
     "name": "stdout",
     "output_type": "stream",
     "text": [
      "Serving HTTP assets on localhost:3000\n",
      "Querying database...\tdone query\n",
      "Opening a new browser window to display track data. Press Ctrl-C to stop the server and close the webpage\n",
      "127.0.0.1:37102 - received: {'msgtype': 'meta'}\n",
      "127.0.0.1:37108 - received: {'msgtype': 'validrange'}\n",
      "127.0.0.1:37108 - received: {'msgtype': 'zones'}\n",
      "Received KeyboardInterrupt, stopping server...\n"
     ]
    }
   ],
   "source": [
    "# Set the start and end times for the query\n",
    "start_time = datetime.strptime(\"2018-01-01 00:00:00\", '%Y-%m-%d %H:%M:%S')\n",
    "end_time = datetime.strptime(\"2018-01-02 00:00:00\", '%Y-%m-%d %H:%M:%S')\n",
    "\n",
    "with aisdb.SQLiteDBConn(dbpath=dbpath) as dbconn:\n",
    "    qry = aisdb.DBQuery(\n",
    "        dbconn=dbconn,\n",
    "        start=start_time,\n",
    "        end=end_time,\n",
    "        callback=aisdb.database.sqlfcn_callbacks.in_timerange_validmmsi,\n",
    "    )\n",
    "    rowgen = qry.gen_qry()\n",
    "    \n",
    "    # Convert queried rows to vessel trajectories\n",
    "    tracks = aisdb.track_gen.TrackGen(rowgen, decimate=False)\n",
    "    \n",
    "    # Visualization\n",
    "    aisdb.web_interface.visualize(\n",
    "        tracks,\n",
    "        # domain=domain,\n",
    "        visualearth=True,\n",
    "        open_browser=True,\n",
    "    )"
   ]
  },
  {
   "cell_type": "markdown",
   "id": "c190965a-da68-412d-8b8f-5d71f5baae07",
   "metadata": {},
   "source": [
    "## Within geographical bounding box"
   ]
  },
  {
   "cell_type": "code",
   "execution_count": 5,
   "id": "ba41edf5-47a0-4b79-8d3e-4117cc29c6b1",
   "metadata": {},
   "outputs": [
    {
     "name": "stdout",
     "output_type": "stream",
     "text": [
      "Serving HTTP assets on localhost:3000\n",
      "Querying database...\tdone query\n",
      "Opening a new browser window to display track data. Press Ctrl-C to stop the server and close the webpage\n",
      "127.0.0.1:50452 - received: {'msgtype': 'meta'}\n",
      "127.0.0.1:50458 - received: {'msgtype': 'validrange'}\n",
      "127.0.0.1:50458 - received: {'msgtype': 'zones'}\n",
      "Received KeyboardInterrupt, stopping server...\n"
     ]
    }
   ],
   "source": [
    "domain = DomainFromPoints(points=[(-63.6, 44.6)], radial_distances=[50000]) # a circle with a 100km radius around the location point\n",
    "\n",
    "with aisdb.SQLiteDBConn(dbpath=dbpath) as dbconn:\n",
    "    qry = aisdb.DBQuery(\n",
    "        dbconn=dbconn,\n",
    "        start=start_time,\n",
    "        end=end_time,\n",
    "        xmin=domain.boundary['xmin'], xmax=domain.boundary['xmax'],\n",
    "        ymin=domain.boundary['ymin'], ymax=domain.boundary['ymax'],\n",
    "        callback=aisdb.database.sqlfcn_callbacks.in_validmmsi_bbox,\n",
    "    )\n",
    "    rowgen = qry.gen_qry()\n",
    "    tracks = aisdb.track_gen.TrackGen(rowgen, decimate=False)\n",
    "    \n",
    "    aisdb.web_interface.visualize(\n",
    "        tracks,\n",
    "        domain=domain,\n",
    "        visualearth=True,\n",
    "        open_browser=True,\n",
    "    )"
   ]
  },
  {
   "cell_type": "markdown",
   "id": "a8e3eb59-4cae-4aa1-a407-ea3539d89f23",
   "metadata": {},
   "source": [
    "## Combination of time range and bounding box"
   ]
  },
  {
   "cell_type": "code",
   "execution_count": 6,
   "id": "81553458-ac42-4a10-b689-80808c3695a2",
   "metadata": {},
   "outputs": [
    {
     "name": "stdout",
     "output_type": "stream",
     "text": [
      "Serving HTTP assets on localhost:3000\n",
      "Querying database...\tdone query\n",
      "Opening a new browser window to display track data. Press Ctrl-C to stop the server and close the webpage\n",
      "127.0.0.1:58844 - received: {'msgtype': 'meta'}\n",
      "127.0.0.1:58856 - received: {'msgtype': 'validrange'}\n",
      "127.0.0.1:58856 - received: {'msgtype': 'zones'}\n",
      "Received KeyboardInterrupt, stopping server...\n"
     ]
    }
   ],
   "source": [
    "with aisdb.SQLiteDBConn(dbpath=dbpath) as dbconn:\n",
    "    qry = aisdb.DBQuery(\n",
    "        dbconn=dbconn,\n",
    "        start=start_time,\n",
    "        end=end_time,\n",
    "        xmin=domain.boundary['xmin'], xmax=domain.boundary['xmax'],\n",
    "        ymin=domain.boundary['ymin'], ymax=domain.boundary['ymax'],\n",
    "        callback=aisdb.database.sqlfcn_callbacks.in_time_bbox_validmmsi\n",
    "    )\n",
    "    rowgen = qry.gen_qry()\n",
    "    tracks = aisdb.track_gen.TrackGen(rowgen, decimate=False)\n",
    "    \n",
    "    aisdb.web_interface.visualize(\n",
    "        tracks,\n",
    "        domain=domain,\n",
    "        visualearth=True,\n",
    "        open_browser=True,\n",
    "    )"
   ]
  },
  {
   "cell_type": "markdown",
   "id": "d88cff4b-4f47-4c47-85fe-026934a2fcec",
   "metadata": {},
   "source": [
    "## Query by listing MMSI"
   ]
  },
  {
   "cell_type": "code",
   "execution_count": 7,
   "id": "8b10f293-ec72-4d6c-a5dd-942084d520d7",
   "metadata": {},
   "outputs": [
    {
     "name": "stderr",
     "output_type": "stream",
     "text": [
      "/home/ruixin/AISdb/aisdb/database/dbqry.py:129: UserWarning: No results found in ais_201812_static\n",
      "  warnings.warn(f'No results found in ais_{month}_static')\n"
     ]
    },
    {
     "name": "stdout",
     "output_type": "stream",
     "text": [
      "Serving HTTP assets on localhost:3000\n",
      "Querying database...\tdone query\n",
      "Opening a new browser window to display track data. Press Ctrl-C to stop the server and close the webpage\n",
      "127.0.0.1:60648 - received: {'msgtype': 'meta'}\n",
      "127.0.0.1:60660 - received: {'msgtype': 'validrange'}\n",
      "127.0.0.1:60660 - received: {'msgtype': 'zones'}\n",
      "Received KeyboardInterrupt, stopping server...\n"
     ]
    }
   ],
   "source": [
    "import random\n",
    "\n",
    "def assign_colors(mmsi_list):\n",
    "    colors = {}\n",
    "    for mmsi in mmsi_list:\n",
    "        colors[mmsi] = \"#{:06x}\".format(random.randint(0, 0xFFFFFF))  # Random color in hex\n",
    "    return colors\n",
    "\n",
    "# Create a function to color tracks\n",
    "def color_tracks(tracks, colors):\n",
    "    colored_tracks = []\n",
    "    for track in tracks:\n",
    "        mmsi = track['mmsi']\n",
    "        color = colors.get(mmsi, \"#000000\")  # Default to black if no color assigned\n",
    "        track['color'] = color\n",
    "        colored_tracks.append(track)\n",
    "    return colored_tracks\n",
    "\n",
    "# Set the start and end times for the query\n",
    "start_time = datetime.strptime(\"2018-01-01 00:00:00\", '%Y-%m-%d %H:%M:%S')\n",
    "end_time = datetime.strptime(\"2018-12-31 00:00:00\", '%Y-%m-%d %H:%M:%S')\n",
    "\n",
    "# Create a list of vessel MMSIs you want to track \n",
    "MMSI = [636017611,636018124,636018253]\n",
    "\n",
    "# Assign colors to each MMSI\n",
    "colors = assign_colors(MMSI)\n",
    "\n",
    "with aisdb.SQLiteDBConn(dbpath=dbpath) as dbconn:\n",
    "    qry = aisdb.DBQuery(\n",
    "        dbconn=dbconn,\n",
    "        start=start_time,\n",
    "        end=end_time,\n",
    "        mmsis = MMSI,\n",
    "        callback=aisdb.database.sqlfcn_callbacks.in_timerange_inmmsi,\n",
    "    )\n",
    "    rowgen = qry.gen_qry()\n",
    "    tracks = aisdb.track_gen.TrackGen(rowgen, decimate=False)\n",
    "    \n",
    "    # Color the tracks\n",
    "    colored_tracks = color_tracks(tracks, colors)\n",
    "\n",
    "    # Visualizing the tracks\n",
    "    aisdb.web_interface.visualize(\n",
    "        colored_tracks,\n",
    "        visualearth=True,\n",
    "        open_browser=True,\n",
    "    )"
   ]
  },
  {
   "cell_type": "code",
   "execution_count": null,
   "id": "68b8fadc-a21a-4c49-bbd0-06672b85c87a",
   "metadata": {},
   "outputs": [],
   "source": []
  }
 ],
 "metadata": {
  "kernelspec": {
   "display_name": "Python 3 (ipykernel)",
   "language": "python",
   "name": "python3"
  },
  "language_info": {
   "codemirror_mode": {
    "name": "ipython",
    "version": 3
   },
   "file_extension": ".py",
   "mimetype": "text/x-python",
   "name": "python",
   "nbconvert_exporter": "python",
   "pygments_lexer": "ipython3",
   "version": "3.10.12"
  }
 },
 "nbformat": 4,
 "nbformat_minor": 5
}
