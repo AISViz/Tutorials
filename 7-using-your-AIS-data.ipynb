{
 "cells": [
  {
   "cell_type": "markdown",
   "id": "f54031d3-15cd-4db7-8961-e35da2d29ca5",
   "metadata": {},
   "source": [
    "# Using Your AIS Data\n",
    "\n",
    "**Dowanload open-source AIS data, create SQLite database and interact with *AISdb***"
   ]
  },
  {
   "cell_type": "markdown",
   "id": "b7759aa2-f200-4baf-a967-0121cc4dc8ba",
   "metadata": {},
   "source": [
    "## Download open-source AIS data"
   ]
  },
  {
   "cell_type": "code",
   "execution_count": 6,
   "id": "e264295b-aeed-4ab1-889c-14163baed709",
   "metadata": {},
   "outputs": [
    {
     "name": "stdout",
     "output_type": "stream",
     "text": [
      "  % Total    % Received % Xferd  Average Speed   Time    Time     Time  Current\n",
      "                                 Dload  Upload   Total   Spent    Left  Speed\n",
      "100  251M  100  251M    0     0  7609k      0  0:00:33  0:00:33 --:--:-- 7233k 34 87.7M    0     0  8047k      0  0:00:32  0:00:11  0:00:21 8118k 8306k      0  0:00:31  0:00:22  0:00:09 9710k\n",
      "Archive:  ./data/AIS_2020_01_01.zip\n",
      "  inflating: ./data/AIS_2020_01_01.csv  \n"
     ]
    }
   ],
   "source": [
    "import os\n",
    "\n",
    "# Check if the 'data' directory exists, and create it if it doesn't\n",
    "if not os.path.exists('data'):\n",
    "    os.makedirs('data')\n",
    "\n",
    "!curl -o ./data/AIS_2020_01_01.zip https://coast.noaa.gov/htdata/CMSP/AISDataHandler/2020/AIS_2020_01_01.zip\n",
    "!unzip ./data/AIS_2020_01_01.zip -d ./data/"
   ]
  },
  {
   "cell_type": "code",
   "execution_count": 2,
   "id": "a7fd108e-c384-4092-953f-92ece6c658f1",
   "metadata": {},
   "outputs": [
    {
     "name": "stdout",
     "output_type": "stream",
     "text": [
      "Index(['MMSI', 'BaseDateTime', 'LAT', 'LON', 'SOG', 'COG', 'Heading',\n",
      "       'VesselName', 'IMO', 'CallSign', 'VesselType', 'Status', 'Length',\n",
      "       'Width', 'Draft', 'Cargo', 'TransceiverClass'],\n",
      "      dtype='object')\n"
     ]
    }
   ],
   "source": [
    "import pandas as pd\n",
    "\n",
    "# Read CSV file in pandas dataframe\n",
    "df_ = pd.read_csv(\"./data/AIS_2020_01_01.csv\", parse_dates=[\"BaseDateTime\"])\n",
    "print(df_.columns)"
   ]
  },
  {
   "cell_type": "markdown",
   "id": "070ec4aa-0132-4851-a458-7a9f927fbc42",
   "metadata": {},
   "source": [
    "## Transform data into *AISdb* format\n",
    "\n",
    "Define the list of headers in *AISdb*:"
   ]
  },
  {
   "cell_type": "code",
   "execution_count": 3,
   "id": "9ed2674c-6623-451b-b562-9fa837cdf46b",
   "metadata": {},
   "outputs": [],
   "source": [
    "list_of_headers_ = [\"MMSI\",\"Message_ID\",\"Repeat_indicator\",\"Time\",\"Millisecond\",\"Region\",\"Country\",\"Base_station\",\"Online_data\",\"Group_code\",\"Sequence_ID\",\"Channel\",\"Data_length\",\"Vessel_Name\",\"Call_sign\",\"IMO\",\"Ship_Type\",\"Dimension_to_Bow\",\"Dimension_to_stern\",\"Dimension_to_port\",\"Dimension_to_starboard\",\"Draught\",\"Destination\",\"AIS_version\",\"Navigational_status\",\"ROT\",\"SOG\",\"Accuracy\",\"Longitude\",\"Latitude\",\"COG\",\"Heading\",\"Regional\",\"Maneuver\",\"RAIM_flag\",\"Communication_flag\",\"Communication_state\",\"UTC_year\",\"UTC_month\",\"UTC_day\",\"UTC_hour\",\"UTC_minute\",\"UTC_second\",\"Fixing_device\",\"Transmission_control\",\"ETA_month\",\"ETA_day\",\"ETA_hour\",\"ETA_minute\",\"Sequence\",\"Destination_ID\",\"Retransmit_flag\",\"Country_code\",\"Functional_ID\",\"Data\",\"Destination_ID_1\",\"Sequence_1\",\"Destination_ID_2\",\"Sequence_2\",\"Destination_ID_3\",\"Sequence_3\",\"Destination_ID_4\",\"Sequence_4\",\"Altitude\",\"Altitude_sensor\",\"Data_terminal\",\"Mode\",\"Safety_text\",\"Non-standard_bits\",\"Name_extension\",\"Name_extension_padding\",\"Message_ID_1_1\",\"Offset_1_1\",\"Message_ID_1_2\",\"Offset_1_2\",\"Message_ID_2_1\",\"Offset_2_1\",\"Destination_ID_A\",\"Offset_A\",\"Increment_A\",\"Destination_ID_B\",\"offsetB\",\"incrementB\",\"data_msg_type\",\"station_ID\",\"Z_count\",\"num_data_words\",\"health\",\"unit_flag\",\"display\",\"DSC\",\"band\",\"msg22\",\"offset1\",\"num_slots1\",\"timeout1\",\"Increment_1\",\"Offset_2\",\"Number_slots_2\",\"Timeout_2\",\"Increment_2\",\"Offset_3\",\"Number_slots_3\",\"Timeout_3\",\"Increment_3\",\"Offset_4\",\"Number_slots_4\",\"Timeout_4\",\"Increment_4\",\"ATON_type\",\"ATON_name\",\"off_position\",\"ATON_status\",\"Virtual_ATON\",\"Channel_A\",\"Channel_B\",\"Tx_Rx_mode\",\"Power\",\"Message_indicator\",\"Channel_A_bandwidth\",\"Channel_B_bandwidth\",\"Transzone_size\",\"Longitude_1\",\"Latitude_1\",\"Longitude_2\",\"Latitude_2\",\"Station_Type\",\"Report_Interval\",\"Quiet_Time\",\"Part_Number\",\"Vendor_ID\",\"Mother_ship_MMSI\",\"Destination_indicator\",\"Binary_flag\",\"GNSS_status\",\"spare\",\"spare2\",\"spare3\",\"spare4\"]"
   ]
  },
  {
   "cell_type": "code",
   "execution_count": 4,
   "id": "b74d56ed-ebfd-47ef-b1ae-301cdab7851d",
   "metadata": {},
   "outputs": [],
   "source": [
    "# Take the first 40,000 records from the original dataframe\n",
    "df = df_.iloc[0:40000]\n",
    "\n",
    "# Create a new dataframe with the specified headers\n",
    "df_new = pd.DataFrame(columns=list_of_headers_)\n",
    "\n",
    "# Populate the new dataframe with formatted data from the original dataframe\n",
    "df_new['Time'] = pd.to_datetime(df['BaseDateTime']).dt.strftime('%Y%m%d_%H%M%S')\n",
    "df_new['Latitude'] = df['LAT']\n",
    "df_new['Longitude'] = df['LON']\n",
    "df_new['Vessel_Name'] = df['VesselName']\n",
    "df_new['Call_sign'] = df['CallSign']\n",
    "df_new['Ship_Type'] = df['VesselType'].fillna(0).astype(int)\n",
    "df_new['Navigational_status'] = df['Status']\n",
    "df_new['Draught'] = df['Draft']\n",
    "df_new['Message_ID'] = 1  # Mark all messages as dynamic by default\n",
    "df_new['Millisecond'] = 0\n",
    "\n",
    "# Transfer additional columns from the original dataframe, if they exist\n",
    "for col_n in df_new:\n",
    "    if col_n in df.columns:\n",
    "        df_new[col_n] = df[col_n]\n",
    "\n",
    "# Extract static messages for each unique vessel\n",
    "filtered_df = df_new[df_new['Ship_Type'].notnull() & (df_new['Ship_Type'] != 0)]\n",
    "filtered_df = filtered_df.drop_duplicates(subset='MMSI', keep='first')\n",
    "filtered_df = filtered_df.reset_index(drop=True)\n",
    "filtered_df['Message_ID'] = 5  # Mark these as static messages\n",
    "\n",
    "# Merge dynamic and static messages into a single dataframe\n",
    "df_new = pd.concat([filtered_df, df_new])\n",
    "\n",
    "# Save the final dataframe to a CSV file\n",
    "# The quoting parameter is necessary because the csvreader reads each column value as a string by default\n",
    "df_new.to_csv(\"./data/AIS_2020_01_01_aisdb.csv\", index=False, quoting=1)"
   ]
  },
  {
   "cell_type": "markdown",
   "id": "ac9f1da8-8a27-454f-8499-8ab9ff70e99a",
   "metadata": {},
   "source": [
    "## Create SQLite database"
   ]
  },
  {
   "cell_type": "code",
   "execution_count": 5,
   "id": "87bc938c-a02c-40c7-aefe-65052425e80d",
   "metadata": {},
   "outputs": [
    {
     "name": "stdout",
     "output_type": "stream",
     "text": [
      "generating file checksums...\n",
      "checking file dates...\n",
      "creating tables and dropping table indexes...\n",
      "saving checksums...\n",
      "Memory: 23.40GB remaining.  CPUs: 12.  Average file size: 49.12MB  Spawning 4 workers\n",
      "processing ./data/AIS_2020_01_01_aisdb.csv\n",
      "AIS_2020_01_01_aisdb.csv                                         count:   49323    elapsed:    0.25s    rate:   195625 msgs/s\n",
      "cleaning temporary data...\n",
      "aggregating static reports into static_202001_aggregate...\n"
     ]
    }
   ],
   "source": [
    "import aisdb\n",
    "\n",
    "# Establish a connection to the SQLite database and decode messages from the CSV file\n",
    "with aisdb.SQLiteDBConn('./data/test_decode_msgs.db') as dbconn:\n",
    "        aisdb.decode_msgs(filepaths=[\"./data/AIS_2020_01_01_aisdb.csv\"],\n",
    "                          dbconn=dbconn,\n",
    "                          source='Testing',\n",
    "                          verbose=True)"
   ]
  },
  {
   "cell_type": "markdown",
   "id": "ca9a2982-3474-4500-b0b2-8e60e64c4411",
   "metadata": {},
   "source": [
    "**A SQLite database is created under the directory `./data/` now!**"
   ]
  },
  {
   "cell_type": "code",
   "execution_count": null,
   "id": "a29e0d07-f40b-4cbc-8616-41dd62e3fecb",
   "metadata": {},
   "outputs": [],
   "source": []
  }
 ],
 "metadata": {
  "kernelspec": {
   "display_name": "Python 3 (ipykernel)",
   "language": "python",
   "name": "python3"
  },
  "language_info": {
   "codemirror_mode": {
    "name": "ipython",
    "version": 3
   },
   "file_extension": ".py",
   "mimetype": "text/x-python",
   "name": "python",
   "nbconvert_exporter": "python",
   "pygments_lexer": "ipython3",
   "version": "3.10.12"
  }
 },
 "nbformat": 4,
 "nbformat_minor": 5
}
