{
 "cells": [
  {
   "cell_type": "markdown",
   "id": "4b368538-6d1b-49fb-826f-2d439cb412aa",
   "metadata": {},
   "source": [
    "# AIS Data Cleaning"
   ]
  },
  {
   "cell_type": "code",
   "execution_count": 1,
   "id": "4ceefafa-4c17-41ab-934e-8cf50152798b",
   "metadata": {},
   "outputs": [],
   "source": [
    "import aisdb\n",
    "from aisdb import DBConn, DBQuery, DomainFromPoints\n",
    "from datetime import datetime, timedelta\n",
    "import nest_asyncio\n",
    "nest_asyncio.apply()\n",
    "\n",
    "dbpath='YOUR_DATABASE.db' # Define the path to your database"
   ]
  },
  {
   "cell_type": "markdown",
   "id": "e86a1c8a-93d9-49ab-9636-9f91186162f6",
   "metadata": {},
   "source": [
    "## Query data without cleaning"
   ]
  },
  {
   "cell_type": "code",
   "execution_count": 2,
   "id": "4ff3b22c-26a2-4cff-8722-a30b73578cd3",
   "metadata": {},
   "outputs": [
    {
     "name": "stdout",
     "output_type": "stream",
     "text": [
      "Serving HTTP assets on localhost:3000\n",
      "Querying database...\tdone query\n",
      "Opening a new browser window to display track data. Press Ctrl-C to stop the server and close the webpage\n",
      "127.0.0.1:39416 - received: {'msgtype': 'meta'}\n",
      "127.0.0.1:39418 - received: {'msgtype': 'validrange'}\n",
      "127.0.0.1:39418 - received: {'msgtype': 'zones'}\n",
      "Received KeyboardInterrupt, stopping server...\n"
     ]
    }
   ],
   "source": [
    "# Set the start and end times for the query\n",
    "start_time = datetime.strptime(\"2018-01-01 00:00:00\", '%Y-%m-%d %H:%M:%S')\n",
    "end_time = datetime.strptime(\"2018-01-02 00:00:00\", '%Y-%m-%d %H:%M:%S')\n",
    "\n",
    "# A circle with a 100km radius around the location point\n",
    "domain = DomainFromPoints(points=[(-63.6, 44.6)], radial_distances=[50000])\n",
    "\n",
    "with aisdb.SQLiteDBConn(dbpath=dbpath) as dbconn:\n",
    "    qry = aisdb.DBQuery(\n",
    "        dbconn=dbconn,\n",
    "        start=start_time,\n",
    "        end=end_time,\n",
    "        callback=aisdb.database.sqlfcn_callbacks.in_timerange_validmmsi,\n",
    "    )\n",
    "    rowgen = qry.gen_qry()\n",
    "    tracks = aisdb.track_gen.TrackGen(rowgen, decimate=False)\n",
    "    \n",
    "    aisdb.web_interface.visualize(\n",
    "        tracks,\n",
    "        domain=domain,\n",
    "        visualearth=True,\n",
    "        open_browser=True,\n",
    "    )"
   ]
  },
  {
   "cell_type": "markdown",
   "id": "000b20bc-f0d3-4ac8-9dcc-225df9552e2d",
   "metadata": {},
   "source": [
    "## After Cleaning"
   ]
  },
  {
   "cell_type": "code",
   "execution_count": 3,
   "id": "7065fbba-96b8-4d90-9384-9fff02be9d24",
   "metadata": {},
   "outputs": [],
   "source": [
    "def color_tracks(tracks):\n",
    "    ''' set the color of each vessel track using a color name or RGB value '''\n",
    "    for track in tracks:\n",
    "        track['color'] = 'yellow'\n",
    "        yield track"
   ]
  },
  {
   "cell_type": "code",
   "execution_count": 4,
   "id": "3a2a728e-dc20-429d-8194-63f48a09aecc",
   "metadata": {},
   "outputs": [
    {
     "name": "stdout",
     "output_type": "stream",
     "text": [
      "Serving HTTP assets on localhost:3000\n",
      "Querying database...\tdone query\n",
      "Opening a new browser window to display track data. Press Ctrl-C to stop the server and close the webpage\n",
      "127.0.0.1:56968 - received: {'msgtype': 'meta'}\n",
      "127.0.0.1:56984 - received: {'msgtype': 'validrange'}\n",
      "127.0.0.1:56984 - received: {'msgtype': 'zones'}\n",
      "Received KeyboardInterrupt, stopping server...\n"
     ]
    }
   ],
   "source": [
    "maxdelta = timedelta(hours=24)  # the maximum time interval\n",
    "distance_threshold = 20000      # the maximum allowed distance (meters) between consecutive AIS messages\n",
    "speed_threshold = 50            # the maximum allowed vessel speed in consecutive AIS messages\n",
    "minscore = 1e-6                 # the minimum score threshold for track segment validation\n",
    "\n",
    "with aisdb.SQLiteDBConn(dbpath=dbpath) as dbconn:\n",
    "    qry = aisdb.DBQuery(\n",
    "        dbconn=dbconn,\n",
    "        start=start_time,\n",
    "        end=end_time,\n",
    "        callback=aisdb.database.sqlfcn_callbacks.in_timerange_validmmsi,\n",
    "    )\n",
    "    rowgen = qry.gen_qry()\n",
    "    tracks = aisdb.track_gen.TrackGen(rowgen, decimate=False)\n",
    "    \n",
    "    # Split the tracks into segments based on the maximum time interval\n",
    "    track_segments = aisdb.split_timedelta(tracks, maxdelta)\n",
    "    \n",
    "    # Encode the track segments to clean and validate the track data\n",
    "    tracks_encoded = aisdb.encode_greatcircledistance(track_segments, \n",
    "                                                      distance_threshold=distance_threshold, \n",
    "                                                      speed_threshold=speed_threshold, \n",
    "                                                      minscore=minscore)\n",
    "    tracks_colored = color_tracks(tracks_encoded)\n",
    "    \n",
    "    aisdb.web_interface.visualize(\n",
    "        tracks_colored,\n",
    "        domain=domain,\n",
    "        visualearth=True,\n",
    "        open_browser=True,\n",
    "    )"
   ]
  },
  {
   "cell_type": "code",
   "execution_count": null,
   "id": "0a81c7eb-07a4-4016-9bc1-f65815feb0fb",
   "metadata": {},
   "outputs": [],
   "source": []
  }
 ],
 "metadata": {
  "kernelspec": {
   "display_name": "Python 3 (ipykernel)",
   "language": "python",
   "name": "python3"
  },
  "language_info": {
   "codemirror_mode": {
    "name": "ipython",
    "version": 3
   },
   "file_extension": ".py",
   "mimetype": "text/x-python",
   "name": "python",
   "nbconvert_exporter": "python",
   "pygments_lexer": "ipython3",
   "version": "3.10.12"
  }
 },
 "nbformat": 4,
 "nbformat_minor": 5
}
